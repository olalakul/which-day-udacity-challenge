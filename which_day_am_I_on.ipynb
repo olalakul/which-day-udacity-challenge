{
 "cells": [
  {
   "cell_type": "markdown",
   "metadata": {},
   "source": [
    "# 60_days_udacity: which day am I on? "
   ]
  },
  {
   "cell_type": "markdown",
   "metadata": {},
   "source": [
    "## Motivation"
   ]
  },
  {
   "cell_type": "markdown",
   "metadata": {},
   "source": [
    "As I started with the 60_days_udacity challenge, I never could recall which day of the challenge I am on (is it 11th or 12th?). At this point I already finished the 'github' part and started with the 'Cloud Fundamentals' part. Thus, I decided to use the knowledge acquired to\n",
    "\n",
    "    * calculate the day with the AWS Lambda (with python as Runtime)\n",
    "    * trigger Lambda with AWS CloudWatch event\n",
    "    * deliver message to my e-mail with AWS SNS\n",
    "    \n",
    "I consider this small project as an easy and at the same time interesting interplay of 3 AWS services mentioned above.\n",
    "    \n",
    "By the way, this was also the start of my journey with boto3 - the AWS SDK for python."
   ]
  },
  {
   "cell_type": "markdown",
   "metadata": {},
   "source": [
    "## SNS Topic to sent notifications"
   ]
  },
  {
   "cell_type": "markdown",
   "metadata": {},
   "source": [
    "I start with the SNS service to deliver messages to my mailbox. At lesson 17 we created SNS topic, subscribed to it and published messages, correct? My topic was called 'us_west_2_notifications'. I hope you created your topic too. I decided to use the same topic for my messages. \n",
    "\n",
    "Go to 'Simple Notification Service' -> 'Topics', your topic should be there. Click on it and pay attention to 'Details'. There you find the ARN, which will be required in your Lambda function. That's it.\n",
    "\n",
    "<img src=\"pictures/SNS-topic-Details.png\" alt=\"SNS Topic ARN\" width=\"400\"/>"
   ]
  },
  {
   "cell_type": "markdown",
   "metadata": {},
   "source": [
    "## Lambda function"
   ]
  },
  {
   "cell_type": "markdown",
   "metadata": {},
   "source": [
    "Go to 'Lambda' -> 'Functions' and create the Lambda function as we learned in Lesson 13. Select `Python 3.8` as 'Runtime'.\n",
    "\n",
    "\n",
    "The code of the function is given below. It just subtracts my starting day from the current day"
   ]
  },
  {
   "cell_type": "code",
   "execution_count": 1,
   "metadata": {
    "ExecuteTime": {
     "end_time": "2020-02-25T06:01:38.902988Z",
     "start_time": "2020-02-25T06:01:38.756365Z"
    }
   },
   "outputs": [],
   "source": [
    "import boto3\n",
    "\n",
    "def lambda_handler(event, context):\n",
    "    today = datetime.today()\n",
    "    difference = today - datetime(2019, 12, 10)\n",
    "    \n",
    "    message = {\"60_days_udacity\": \"I am on a day {:d}\".format(difference.days)}\n",
    "    client = boto3.client('sns')\n",
    "    response = client.publish(\n",
    "        TargetArn=\"arn:aws:sns:us-west-2:342028678820:us_west_2_notifications\",\n",
    "        Message=json.dumps({'default': json.dumps(message)}),\n",
    "        MessageStructure='json'\n",
    "    )\n",
    "\n",
    "    return {\n",
    "        'statusCode': 200,\n",
    "        'body': json.dumps('published via sns topic')\n",
    "    }\n"
   ]
  },
  {
   "cell_type": "markdown",
   "metadata": {},
   "source": [
    "Let us go through the code.\n",
    "\n",
    "The actual calculation of the day occcurs on lines 4 and 5.\n",
    "Line 7 creates a text message that will be sent to my smartphone.\n",
    "\n",
    "On line 8 I am using the boto3 library (which was imported on line 1) to create an sns client called simply 'client' in the code. \n",
    "\n",
    "To publish the response with SNS topic you need to know its ARN. This is exactly what we got in the previous section.\n",
    "\n",
    "Lines 11 and 12 are boilerplate code to enforce the json format of the message.\n",
    "\n",
    "Lines 15 to 18 are boilerplate code to return the OK status in 'statusCode' and the result of calculations (number of days from my starting date) in 'body'.\n"
   ]
  },
  {
   "cell_type": "markdown",
   "metadata": {},
   "source": [
    "After you enter the code, the Lambda function should look like this\n",
    "\n",
    "<img src=\"pictures/lambda-python.png\" alt=\"AWS Lambda with Python runtime\" width=\"700\"/>"
   ]
  },
  {
   "cell_type": "markdown",
   "metadata": {},
   "source": [
    "##  CloudWatch Events to trigger the Lambda function"
   ]
  },
  {
   "cell_type": "markdown",
   "metadata": {},
   "source": [
    "Go to 'CloudWatch' service and create the CloudWatchEvent as we learned in Lesson 18. Choose `Schedule` as Event Source. \n",
    "To schedule the events at 0 minutes 9 hours UTC time every day, set the 'Cron Expression' to `0 9 ? * * *`. If this expression looks misterious to you, have a look at the [Schedule Expressions for Rules](https://docs.aws.amazon.com/AmazonCloudWatch/latest/events/ScheduledEvents.html) or a nice explanation at [Cron Format](http://www.nncron.ru/help/EN/working/cron-format.htm). \n",
    "\n",
    "<img src=\"pictures/CloudWatch-cron.png\" alt=\"CloudWatch CRON Schedule\" width=\"700\"/>\n"
   ]
  },
  {
   "cell_type": "markdown",
   "metadata": {},
   "source": [
    "Set Target to 'Lambda function' and from the 'Function' drop-down menu select the name of the function you created. In my case - `dayOnUdacityPython`.\n",
    "\n",
    "<img src=\"pictures/CloudWatch-targets.png\" alt=\"CloudWatch Targets\" width=\"700\"/>"
   ]
  },
  {
   "cell_type": "markdown",
   "metadata": {},
   "source": [
    "After your rule is created, click on it to get the Summary. This is how it looks for my function\n",
    "\n",
    "<img src=\"pictures/CloudWatch-summary.png\" alt=\"CloudWatch Summary\" width=\"500\"/>"
   ]
  },
  {
   "cell_type": "markdown",
   "metadata": {},
   "source": [
    "For more details on creating such rules see [Creating a CloudWatch Events Rule That Triggers on a Schedule](https://docs.aws.amazon.com/AmazonCloudWatch/latest/events/Create-CloudWatch-Events-Scheduled-Rule.html)"
   ]
  },
  {
   "cell_type": "markdown",
   "metadata": {},
   "source": [
    "## Add trigger to your Lambda function"
   ]
  },
  {
   "cell_type": "markdown",
   "metadata": {},
   "source": [
    "Now it is time to a add a trigger to your function. Go back to 'Amazon Lambda' service and select your function.\n",
    "Click on 'Add trigger' and choose `CloudWatchEvents`.\n",
    "At the 'Rule' select the rule, that you created at CloudWatch. In my case it is `dayOnUdacityChallenge`.\n",
    "\n",
    "<img src=\"pictures/lambda-addTrigger.png\" alt=\"Lambda add Trigger\" width=\"600\"/>\n",
    "\n",
    "After your function is set, it should look like\n",
    "\n",
    "<img src=\"pictures/lambda-CloudWatchAsTrigger.png\" alt=\"CloudWatch as Trigger\" width=\"700\"/>\n"
   ]
  },
  {
   "cell_type": "markdown",
   "metadata": {},
   "source": [
    "You are done. Each day at 9 UTC you will get the e-mail message from Amazon."
   ]
  },
  {
   "cell_type": "markdown",
   "metadata": {},
   "source": [
    "## Did you complete your 60_days_udacity challenge?\n",
    "\n",
    "Then its time to disable your rule. Go to 'CloudWatch' -> 'Rules', choose your rule by clicking on the bullet in the 'Status' column and choose 'Actions' -> `Disable` or `Delete`. As I completed the challenge, I only disabled my rule. I also kept my Lambda function and SNS topic. That is how I am able to write this post now."
   ]
  }
 ],
 "metadata": {
  "kernelspec": {
   "display_name": "Python 3",
   "language": "python",
   "name": "python3"
  },
  "language_info": {
   "codemirror_mode": {
    "name": "ipython",
    "version": 3
   },
   "file_extension": ".py",
   "mimetype": "text/x-python",
   "name": "python",
   "nbconvert_exporter": "python",
   "pygments_lexer": "ipython3",
   "version": "3.7.3"
  },
  "toc": {
   "base_numbering": 1,
   "nav_menu": {},
   "number_sections": true,
   "sideBar": true,
   "skip_h1_title": true,
   "title_cell": "Table of Contents",
   "title_sidebar": "Contents",
   "toc_cell": false,
   "toc_position": {},
   "toc_section_display": true,
   "toc_window_display": true
  },
  "varInspector": {
   "cols": {
    "lenName": 16,
    "lenType": 16,
    "lenVar": 40
   },
   "kernels_config": {
    "python": {
     "delete_cmd_postfix": "",
     "delete_cmd_prefix": "del ",
     "library": "var_list.py",
     "varRefreshCmd": "print(var_dic_list())"
    },
    "r": {
     "delete_cmd_postfix": ") ",
     "delete_cmd_prefix": "rm(",
     "library": "var_list.r",
     "varRefreshCmd": "cat(var_dic_list()) "
    }
   },
   "types_to_exclude": [
    "module",
    "function",
    "builtin_function_or_method",
    "instance",
    "_Feature"
   ],
   "window_display": false
  }
 },
 "nbformat": 4,
 "nbformat_minor": 2
}
